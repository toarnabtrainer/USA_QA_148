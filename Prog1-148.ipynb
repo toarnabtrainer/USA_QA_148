{
 "cells": [
  {
   "cell_type": "code",
   "execution_count": 3,
   "id": "8bbd961e-4400-4416-823e-0e66ea06a126",
   "metadata": {},
   "outputs": [
    {
     "name": "stdout",
     "output_type": "stream",
     "text": [
      "Hello\n"
     ]
    }
   ],
   "source": [
    "print (\"Hello\")"
   ]
  },
  {
   "cell_type": "markdown",
   "id": "92a780c9-75c9-459c-81e4-1ece96b463ce",
   "metadata": {},
   "source": [
    "# Input and Output\n",
    "## Input and Output\n",
    "### Input and Output\n",
    "#### Input and Output\n",
    "##### Input and Output\n",
    "###### Input and Output"
   ]
  },
  {
   "cell_type": "code",
   "execution_count": 8,
   "id": "fca8cbf5-57f3-4119-825c-39588e55e734",
   "metadata": {},
   "outputs": [
    {
     "name": "stdin",
     "output_type": "stream",
     "text": [
      "Please enter the first number:  100\n",
      "Please enter the second number:  300\n"
     ]
    },
    {
     "name": "stdout",
     "output_type": "stream",
     "text": [
      "100 <class 'str'>\n",
      "300 <class 'str'>\n",
      "So the final sum is 100300\n",
      "So the final sum is 400\n",
      "End of the program...\n"
     ]
    }
   ],
   "source": [
    "# Performing addition of two user given numbers\n",
    "num1 = input(\"Please enter the first number: \")\n",
    "num2 = input(\"Please enter the second number: \")\n",
    "print (num1, type(num1))\n",
    "print (num2, type(num2))\n",
    "total = num1 + num2  # string concatenation\n",
    "print (\"So the final sum is\", total)\n",
    "total = int(num1) + int(num2)  # algebraic addition\n",
    "print (\"So the final sum is\", total)\n",
    "print (\"End of the program...\")"
   ]
  },
  {
   "cell_type": "code",
   "execution_count": 7,
   "id": "b166fe8f-3584-49b3-b77f-8e4da9dc0068",
   "metadata": {},
   "outputs": [
    {
     "name": "stdin",
     "output_type": "stream",
     "text": [
      "Please enter the first number:  100\n",
      "Please enter the second number:  300\n"
     ]
    },
    {
     "name": "stdout",
     "output_type": "stream",
     "text": [
      "100 <class 'int'>\n",
      "300 <class 'int'>\n",
      "So the final sum is 400\n",
      "End of the program...\n"
     ]
    }
   ],
   "source": [
    "# Performing addition of two user given numbers\n",
    "num1 = int(input(\"Please enter the first number: \"))\n",
    "num2 = int(input(\"Please enter the second number: \"))\n",
    "print (num1, type(num1))\n",
    "print (num2, type(num2))\n",
    "total = num1 + num2  # string concatenation\n",
    "print (\"So the final sum is\", total)\n",
    "print (\"End of the program...\")"
   ]
  },
  {
   "cell_type": "code",
   "execution_count": 10,
   "id": "3c7162ee-df66-444f-8769-5f9e00d03e49",
   "metadata": {},
   "outputs": [
    {
     "name": "stdin",
     "output_type": "stream",
     "text": [
      "Please enter the first number:  100\n",
      "Please enter the second number:  500\n"
     ]
    }
   ],
   "source": [
    "# Performing addition of two user given numbers\n",
    "num1 = int(input(\"Please enter the first number: \"))\n",
    "num2 = int(input(\"Please enter the second number: \"))\n",
    "total = num1 + num2"
   ]
  },
  {
   "cell_type": "code",
   "execution_count": 27,
   "id": "ce346153-e705-4674-93ba-668fd6e5f336",
   "metadata": {},
   "outputs": [
    {
     "name": "stdout",
     "output_type": "stream",
     "text": [
      "So the sum of 100 + 500 = 600\n",
      "So the sum of 100 + 500 = 600\n",
      "So the sum of 100 + 500 = 600\n",
      "So the sum of 100 + 500 = 600\n",
      "So the sum of 100 + 500 = 600\n",
      "So the sum of 100 + 500 = 600\n",
      "So the sum of 100 + 500 = 600\n",
      "So the sum of 100 + 500 = 600\n",
      "So the sum of 100.000000 + 500 = 600\n",
      "So the sum of   100.0000 + 500 = 600\n",
      "So the sum of 100 + 500 = 600\n"
     ]
    }
   ],
   "source": [
    "print (\"So the sum of\", num1, \"+\", num2, \"=\", total)\n",
    "print (\"So the sum of \" + str(num1) + \" + \" + str(num2) + \" = \" + str(total))\n",
    "print (\"So the sum of {} + {} = {}\".format(num1, num2, total))   # {} is called place holder\n",
    "print (\"So the sum of {0} + {1} = {2}\".format(num1, num2, total))   # using indexed place holder\n",
    "print (\"So the sum of {2} + {1} = {0}\".format(total, num2, num1))   # using indexed place holder\n",
    "print (\"So the sum of {fnum} + {snum} = {tot}\".format(fnum = num1, snum = num2, tot = total))   # using labeled place holder\n",
    "print (\"So the sum of {fnum} + {snum} = {tot}\".format(tot = total, snum = num2, fnum = num1))   # using labeled place holder\n",
    "print (\"So the sum of %d + %d = %d\"%(num1, num2, total))\n",
    "print (\"So the sum of %f + %d = %d\"%(num1, num2, total))\n",
    "print (\"So the sum of %10.4f + %d = %d\"%(num1, num2, total))\n",
    "print (f\"So the sum of {num1} + {num2} = {total}\")"
   ]
  },
  {
   "cell_type": "markdown",
   "id": "470e900e-d498-45e3-87a3-7412fa0fca65",
   "metadata": {},
   "source": [
    "### Operators"
   ]
  },
  {
   "cell_type": "code",
   "execution_count": 28,
   "id": "09827656-a02d-4e12-9f20-673dcae4c9ba",
   "metadata": {},
   "outputs": [
    {
     "name": "stdout",
     "output_type": "stream",
     "text": [
      "140\n",
      "60\n",
      "4000\n",
      "2.5\n",
      "2\n",
      "20\n",
      "100000000\n"
     ]
    }
   ],
   "source": [
    "# Arithmetic Operators: + - * / // % **\n",
    "print (100 + 40)   # addition operation\n",
    "print (100 - 40)   # subtraction operation\n",
    "print (100 * 40)   # multiplication operation\n",
    "print (100 / 40)   # float division operation\n",
    "print (100 // 40)  # integer division operation\n",
    "print (100 % 40)   # modulus operation (Remainder of the division)\n",
    "print (100 ** 4)   # exponentiation operation"
   ]
  },
  {
   "cell_type": "code",
   "execution_count": 34,
   "id": "12ec29d1-f987-4942-81f3-47c379f8b31d",
   "metadata": {},
   "outputs": [
    {
     "name": "stdout",
     "output_type": "stream",
     "text": [
      "100 <class 'int'>\n",
      "100.5 <class 'float'>\n",
      "100 <class 'str'>\n",
      "100 <class 'str'>\n",
      "True <class 'bool'>\n",
      "False <class 'bool'>\n"
     ]
    }
   ],
   "source": [
    "var = 100\n",
    "print (var, type(var))\n",
    "var = 100.5\n",
    "print (var, type(var))\n",
    "var = \"100\"\n",
    "print (var, type(var))\n",
    "var = '100'\n",
    "print (var, type(var))\n",
    "var = True\n",
    "print (var, type(var))\n",
    "var = False\n",
    "print (var, type(var))"
   ]
  },
  {
   "cell_type": "code",
   "execution_count": 38,
   "id": "427a80e0-98da-42bc-baca-15d7bde675f9",
   "metadata": {},
   "outputs": [
    {
     "name": "stdout",
     "output_type": "stream",
     "text": [
      "False True True True\n",
      "False False False True\n",
      "False True\n"
     ]
    }
   ],
   "source": [
    "# logical operator: and, or, not\n",
    "print (False or False, False or True, True or False, True or True)\n",
    "print (False and False, False and True, True and False, True and True)\n",
    "print (not True, not False)"
   ]
  },
  {
   "cell_type": "code",
   "execution_count": 40,
   "id": "39be513d-653b-487c-9511-376bb0f01c06",
   "metadata": {},
   "outputs": [
    {
     "name": "stdout",
     "output_type": "stream",
     "text": [
      "False True False True False True\n",
      "True True False False True False\n"
     ]
    }
   ],
   "source": [
    "# relational operators: > >= < <= != ==\n",
    "print (100 < 100, 100 <= 100, 100 > 100, 100 >= 100, 100 != 100, 100 == 100)\n",
    "print (100 < 200, 100 <= 200, 100 > 200, 100 >= 200, 100 != 200, 100 == 200)"
   ]
  },
  {
   "cell_type": "code",
   "execution_count": 41,
   "id": "f58271b2-b865-4a3d-9e72-bcd5f6839fe1",
   "metadata": {},
   "outputs": [
    {
     "name": "stdout",
     "output_type": "stream",
     "text": [
      "100 Even\n",
      "101 Odd\n"
     ]
    }
   ],
   "source": [
    "# ternary operator\n",
    "num = 100\n",
    "result = \"Even\" if (num % 2 == 0) else \"Odd\"\n",
    "print (num, result)\n",
    "\n",
    "num = 101\n",
    "result = \"Even\" if (num % 2 == 0) else \"Odd\"\n",
    "print (num, result)"
   ]
  },
  {
   "cell_type": "code",
   "execution_count": 42,
   "id": "547047d4-36c9-4c68-bc3c-f77e5a15307e",
   "metadata": {},
   "outputs": [],
   "source": [
    "# Operator types:\n",
    "# unary operator: +100 -200 (Unary operator requires only one operand)\n",
    "# binary operator: 100 + 200  100 - 200 (Binary operator requires two operands)\n",
    "# ternary operator: True-part if (condition) else False-part (Ternary operator requires three operands)"
   ]
  },
  {
   "cell_type": "code",
   "execution_count": null,
   "id": "17f589fb-b31b-4b90-84b2-edff1c4d3b3d",
   "metadata": {},
   "outputs": [],
   "source": []
  },
  {
   "cell_type": "code",
   "execution_count": null,
   "id": "b21982ff-f98b-436d-b376-13f3e6e91a75",
   "metadata": {},
   "outputs": [],
   "source": []
  },
  {
   "cell_type": "code",
   "execution_count": null,
   "id": "543685e5-79e3-40ca-b742-905b4edbf6b2",
   "metadata": {},
   "outputs": [],
   "source": []
  },
  {
   "cell_type": "code",
   "execution_count": null,
   "id": "dbffbefa-6f99-431e-879b-e5480ef66383",
   "metadata": {},
   "outputs": [],
   "source": []
  },
  {
   "cell_type": "code",
   "execution_count": null,
   "id": "81c014b3-311a-4856-b389-95a6f67d3598",
   "metadata": {},
   "outputs": [],
   "source": []
  },
  {
   "cell_type": "code",
   "execution_count": null,
   "id": "75ec1145-41c5-4292-baeb-8bc0f83694a1",
   "metadata": {},
   "outputs": [],
   "source": []
  },
  {
   "cell_type": "code",
   "execution_count": null,
   "id": "5bd0273d-d078-4714-a7e4-f39d75c7087a",
   "metadata": {},
   "outputs": [],
   "source": []
  },
  {
   "cell_type": "code",
   "execution_count": null,
   "id": "e01f29f6-a142-4830-9978-4b93a9222d80",
   "metadata": {},
   "outputs": [],
   "source": []
  },
  {
   "cell_type": "code",
   "execution_count": null,
   "id": "a151e80f-e196-4c02-a826-6731af74e06d",
   "metadata": {},
   "outputs": [],
   "source": []
  }
 ],
 "metadata": {
  "kernelspec": {
   "display_name": "Python 3",
   "language": "python",
   "name": "python3"
  },
  "language_info": {
   "codemirror_mode": {
    "name": "ipython",
    "version": 3
   },
   "file_extension": ".py",
   "mimetype": "text/x-python",
   "name": "python",
   "nbconvert_exporter": "python",
   "pygments_lexer": "ipython3",
   "version": "3.8.8"
  }
 },
 "nbformat": 4,
 "nbformat_minor": 5
}
