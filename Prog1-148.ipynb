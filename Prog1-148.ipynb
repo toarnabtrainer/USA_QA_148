{
 "cells": [
  {
   "cell_type": "code",
   "execution_count": 3,
   "id": "8bbd961e-4400-4416-823e-0e66ea06a126",
   "metadata": {},
   "outputs": [
    {
     "name": "stdout",
     "output_type": "stream",
     "text": [
      "Hello\n"
     ]
    }
   ],
   "source": [
    "print (\"Hello\")"
   ]
  },
  {
   "cell_type": "markdown",
   "id": "92a780c9-75c9-459c-81e4-1ece96b463ce",
   "metadata": {},
   "source": [
    "# Input and Output\n",
    "## Input and Output\n",
    "### Input and Output\n",
    "#### Input and Output\n",
    "##### Input and Output\n",
    "###### Input and Output"
   ]
  },
  {
   "cell_type": "code",
   "execution_count": 8,
   "id": "fca8cbf5-57f3-4119-825c-39588e55e734",
   "metadata": {},
   "outputs": [
    {
     "name": "stdin",
     "output_type": "stream",
     "text": [
      "Please enter the first number:  100\n",
      "Please enter the second number:  300\n"
     ]
    },
    {
     "name": "stdout",
     "output_type": "stream",
     "text": [
      "100 <class 'str'>\n",
      "300 <class 'str'>\n",
      "So the final sum is 100300\n",
      "So the final sum is 400\n",
      "End of the program...\n"
     ]
    }
   ],
   "source": [
    "# Performing addition of two user given numbers\n",
    "num1 = input(\"Please enter the first number: \")\n",
    "num2 = input(\"Please enter the second number: \")\n",
    "print (num1, type(num1))\n",
    "print (num2, type(num2))\n",
    "total = num1 + num2  # string concatenation\n",
    "print (\"So the final sum is\", total)\n",
    "total = int(num1) + int(num2)  # algebraic addition\n",
    "print (\"So the final sum is\", total)\n",
    "print (\"End of the program...\")"
   ]
  },
  {
   "cell_type": "code",
   "execution_count": 7,
   "id": "b166fe8f-3584-49b3-b77f-8e4da9dc0068",
   "metadata": {},
   "outputs": [
    {
     "name": "stdin",
     "output_type": "stream",
     "text": [
      "Please enter the first number:  100\n",
      "Please enter the second number:  300\n"
     ]
    },
    {
     "name": "stdout",
     "output_type": "stream",
     "text": [
      "100 <class 'int'>\n",
      "300 <class 'int'>\n",
      "So the final sum is 400\n",
      "End of the program...\n"
     ]
    }
   ],
   "source": [
    "# Performing addition of two user given numbers\n",
    "num1 = int(input(\"Please enter the first number: \"))\n",
    "num2 = int(input(\"Please enter the second number: \"))\n",
    "print (num1, type(num1))\n",
    "print (num2, type(num2))\n",
    "total = num1 + num2  # string concatenation\n",
    "print (\"So the final sum is\", total)\n",
    "print (\"End of the program...\")"
   ]
  },
  {
   "cell_type": "code",
   "execution_count": 10,
   "id": "3c7162ee-df66-444f-8769-5f9e00d03e49",
   "metadata": {},
   "outputs": [
    {
     "name": "stdin",
     "output_type": "stream",
     "text": [
      "Please enter the first number:  100\n",
      "Please enter the second number:  500\n"
     ]
    }
   ],
   "source": [
    "# Performing addition of two user given numbers\n",
    "num1 = int(input(\"Please enter the first number: \"))\n",
    "num2 = int(input(\"Please enter the second number: \"))\n",
    "total = num1 + num2"
   ]
  },
  {
   "cell_type": "code",
   "execution_count": 27,
   "id": "ce346153-e705-4674-93ba-668fd6e5f336",
   "metadata": {},
   "outputs": [
    {
     "name": "stdout",
     "output_type": "stream",
     "text": [
      "So the sum of 100 + 500 = 600\n",
      "So the sum of 100 + 500 = 600\n",
      "So the sum of 100 + 500 = 600\n",
      "So the sum of 100 + 500 = 600\n",
      "So the sum of 100 + 500 = 600\n",
      "So the sum of 100 + 500 = 600\n",
      "So the sum of 100 + 500 = 600\n",
      "So the sum of 100 + 500 = 600\n",
      "So the sum of 100.000000 + 500 = 600\n",
      "So the sum of   100.0000 + 500 = 600\n",
      "So the sum of 100 + 500 = 600\n"
     ]
    }
   ],
   "source": [
    "print (\"So the sum of\", num1, \"+\", num2, \"=\", total)\n",
    "print (\"So the sum of \" + str(num1) + \" + \" + str(num2) + \" = \" + str(total))\n",
    "print (\"So the sum of {} + {} = {}\".format(num1, num2, total))   # {} is called place holder\n",
    "print (\"So the sum of {0} + {1} = {2}\".format(num1, num2, total))   # using indexed place holder\n",
    "print (\"So the sum of {2} + {1} = {0}\".format(total, num2, num1))   # using indexed place holder\n",
    "print (\"So the sum of {fnum} + {snum} = {tot}\".format(fnum = num1, snum = num2, tot = total))   # using labeled place holder\n",
    "print (\"So the sum of {fnum} + {snum} = {tot}\".format(tot = total, snum = num2, fnum = num1))   # using labeled place holder\n",
    "print (\"So the sum of %d + %d = %d\"%(num1, num2, total))\n",
    "print (\"So the sum of %f + %d = %d\"%(num1, num2, total))\n",
    "print (\"So the sum of %10.4f + %d = %d\"%(num1, num2, total))\n",
    "print (f\"So the sum of {num1} + {num2} = {total}\")"
   ]
  },
  {
   "cell_type": "markdown",
   "id": "470e900e-d498-45e3-87a3-7412fa0fca65",
   "metadata": {},
   "source": [
    "### Operators"
   ]
  },
  {
   "cell_type": "code",
   "execution_count": 28,
   "id": "09827656-a02d-4e12-9f20-673dcae4c9ba",
   "metadata": {},
   "outputs": [
    {
     "name": "stdout",
     "output_type": "stream",
     "text": [
      "140\n",
      "60\n",
      "4000\n",
      "2.5\n",
      "2\n",
      "20\n",
      "100000000\n"
     ]
    }
   ],
   "source": [
    "# Arithmetic Operators: + - * / // % **\n",
    "print (100 + 40)   # addition operation\n",
    "print (100 - 40)   # subtraction operation\n",
    "print (100 * 40)   # multiplication operation\n",
    "print (100 / 40)   # float division operation\n",
    "print (100 // 40)  # integer division operation\n",
    "print (100 % 40)   # modulus operation (Remainder of the division)\n",
    "print (100 ** 4)   # exponentiation operation"
   ]
  },
  {
   "cell_type": "code",
   "execution_count": 34,
   "id": "12ec29d1-f987-4942-81f3-47c379f8b31d",
   "metadata": {},
   "outputs": [
    {
     "name": "stdout",
     "output_type": "stream",
     "text": [
      "100 <class 'int'>\n",
      "100.5 <class 'float'>\n",
      "100 <class 'str'>\n",
      "100 <class 'str'>\n",
      "True <class 'bool'>\n",
      "False <class 'bool'>\n"
     ]
    }
   ],
   "source": [
    "var = 100\n",
    "print (var, type(var))\n",
    "var = 100.5\n",
    "print (var, type(var))\n",
    "var = \"100\"\n",
    "print (var, type(var))\n",
    "var = '100'\n",
    "print (var, type(var))\n",
    "var = True\n",
    "print (var, type(var))\n",
    "var = False\n",
    "print (var, type(var))"
   ]
  },
  {
   "cell_type": "code",
   "execution_count": 38,
   "id": "427a80e0-98da-42bc-baca-15d7bde675f9",
   "metadata": {},
   "outputs": [
    {
     "name": "stdout",
     "output_type": "stream",
     "text": [
      "False True True True\n",
      "False False False True\n",
      "False True\n"
     ]
    }
   ],
   "source": [
    "# logical operator: and, or, not\n",
    "print (False or False, False or True, True or False, True or True)\n",
    "print (False and False, False and True, True and False, True and True)\n",
    "print (not True, not False)"
   ]
  },
  {
   "cell_type": "code",
   "execution_count": 40,
   "id": "39be513d-653b-487c-9511-376bb0f01c06",
   "metadata": {},
   "outputs": [
    {
     "name": "stdout",
     "output_type": "stream",
     "text": [
      "False True False True False True\n",
      "True True False False True False\n"
     ]
    }
   ],
   "source": [
    "# relational operators: > >= < <= != ==\n",
    "print (100 < 100, 100 <= 100, 100 > 100, 100 >= 100, 100 != 100, 100 == 100)\n",
    "print (100 < 200, 100 <= 200, 100 > 200, 100 >= 200, 100 != 200, 100 == 200)"
   ]
  },
  {
   "cell_type": "code",
   "execution_count": 41,
   "id": "f58271b2-b865-4a3d-9e72-bcd5f6839fe1",
   "metadata": {},
   "outputs": [
    {
     "name": "stdout",
     "output_type": "stream",
     "text": [
      "100 Even\n",
      "101 Odd\n"
     ]
    }
   ],
   "source": [
    "# ternary operator\n",
    "num = 100\n",
    "result = \"Even\" if (num % 2 == 0) else \"Odd\"\n",
    "print (num, result)\n",
    "\n",
    "num = 101\n",
    "result = \"Even\" if (num % 2 == 0) else \"Odd\"\n",
    "print (num, result)"
   ]
  },
  {
   "cell_type": "code",
   "execution_count": 42,
   "id": "547047d4-36c9-4c68-bc3c-f77e5a15307e",
   "metadata": {},
   "outputs": [],
   "source": [
    "# Operator types:\n",
    "# unary operator: +100 -200 (Unary operator requires only one operand)\n",
    "# binary operator: 100 + 200  100 - 200 (Binary operator requires two operands)\n",
    "# ternary operator: True-part if (condition) else False-part (Ternary operator requires three operands)"
   ]
  },
  {
   "cell_type": "markdown",
   "id": "f4bf140f-b6d2-4c2a-bfc0-4d15419c081f",
   "metadata": {},
   "source": [
    "### Looping and Iterations"
   ]
  },
  {
   "cell_type": "code",
   "execution_count": 1,
   "id": "b21982ff-f98b-436d-b376-13f3e6e91a75",
   "metadata": {},
   "outputs": [
    {
     "name": "stdout",
     "output_type": "stream",
     "text": [
      "Executing for i = 0\n",
      "Executing for i = 1\n",
      "Executing for i = 2\n",
      "Executing for i = 3\n",
      "Executing for i = 4\n",
      "Executing for i = 5\n",
      "Executing for i = 6\n",
      "Executing for i = 7\n",
      "Executing for i = 8\n",
      "Executing for i = 9\n"
     ]
    }
   ],
   "source": [
    "for i in range(10):  # will loop for 0 to 9\n",
    "    print (\"Executing for i =\", i)"
   ]
  },
  {
   "cell_type": "code",
   "execution_count": 2,
   "id": "543685e5-79e3-40ca-b742-905b4edbf6b2",
   "metadata": {},
   "outputs": [
    {
     "name": "stdout",
     "output_type": "stream",
     "text": [
      "Executing for i = 5\n",
      "Executing for i = 6\n",
      "Executing for i = 7\n",
      "Executing for i = 8\n",
      "Executing for i = 9\n"
     ]
    }
   ],
   "source": [
    "for i in range(5, 10):  # will loop for 5 to 9\n",
    "    print (\"Executing for i =\", i)"
   ]
  },
  {
   "cell_type": "code",
   "execution_count": 3,
   "id": "dbffbefa-6f99-431e-879b-e5480ef66383",
   "metadata": {},
   "outputs": [
    {
     "name": "stdout",
     "output_type": "stream",
     "text": [
      "Executing for i = 0\n",
      "Executing for i = 2\n",
      "Executing for i = 4\n",
      "Executing for i = 6\n",
      "Executing for i = 8\n"
     ]
    }
   ],
   "source": [
    "for i in range(0, 10, 2):  # will loop for i = 0, 2, 4, 6, 8\n",
    "    print (\"Executing for i =\", i)"
   ]
  },
  {
   "cell_type": "code",
   "execution_count": 5,
   "id": "81c014b3-311a-4856-b389-95a6f67d3598",
   "metadata": {},
   "outputs": [
    {
     "name": "stdout",
     "output_type": "stream",
     "text": [
      "Hello Hello Hello Hello Hello Hello Hello Hello Hello Hello \n",
      "Hello Hello Hello Hello Hello Hello Hello Hello Hello Hello Welcome Welcome Welcome Welcome Welcome \n"
     ]
    }
   ],
   "source": [
    "print (\"Hello \" * 10)\n",
    "print (\"Hello \" * 10 + \"Welcome \" * 5)"
   ]
  },
  {
   "cell_type": "code",
   "execution_count": null,
   "id": "75ec1145-41c5-4292-baeb-8bc0f83694a1",
   "metadata": {},
   "outputs": [],
   "source": [
    "n = 6 (User's input)           \n",
    "                i  .  *   \n",
    "              -----------\n",
    ".....*          1  5  1       (i, n)\n",
    "....***         2  4  3  . => (n - i)\n",
    "...*****        3  3  5\n",
    "..*******       4  2  7  * => (2 * i - 1)\n",
    ".*********      5  1  9\n",
    "***********     6  0 11\n",
    "              -----------"
   ]
  },
  {
   "cell_type": "code",
   "execution_count": 11,
   "id": "5bd0273d-d078-4714-a7e4-f39d75c7087a",
   "metadata": {},
   "outputs": [
    {
     "name": "stdin",
     "output_type": "stream",
     "text": [
      "Please enter the number of layers:  9\n"
     ]
    },
    {
     "name": "stdout",
     "output_type": "stream",
     "text": [
      "        *\n",
      "       ***\n",
      "      *****\n",
      "     *******\n",
      "    *********\n",
      "   ***********\n",
      "  *************\n",
      " ***************\n",
      "*****************\n"
     ]
    }
   ],
   "source": [
    "n = int(input(\"Please enter the number of layers: \"))\n",
    "for i in range(1, n + 1):\n",
    "    print (\" \" * (n - i) + \"*\" * (2 * i - 1))"
   ]
  },
  {
   "cell_type": "code",
   "execution_count": null,
   "id": "e01f29f6-a142-4830-9978-4b93a9222d80",
   "metadata": {},
   "outputs": [],
   "source": [
    "n = 11 (User's ODD input)            m = (n + 1) // 2 = 6\n",
    "                i  .  *   \n",
    "              -----------\n",
    ".....*          1  5  1       (i, m, n)\n",
    "....***         2  4  3  . => (m - i)\n",
    "...*****        3  3  5\n",
    "..*******       4  2  7  * => (2 * i - 1)\n",
    ".*********      5  1  9\n",
    "***********   __6__0_11__\n",
    ".*********      7  1  9\n",
    "..*******       8  2  7  . => (i - m)\n",
    "...*****        9  3  5\n",
    "....***        10  4  3  * => (2 * (n - i) + 1)\n",
    ".....*         11  5  1\n",
    "              -----------"
   ]
  },
  {
   "cell_type": "code",
   "execution_count": 13,
   "id": "a151e80f-e196-4c02-a826-6731af74e06d",
   "metadata": {},
   "outputs": [
    {
     "name": "stdin",
     "output_type": "stream",
     "text": [
      "Please enter the ODD number of layers:  17\n"
     ]
    },
    {
     "name": "stdout",
     "output_type": "stream",
     "text": [
      "........*\n",
      ".......***\n",
      "......*****\n",
      ".....*******\n",
      "....*********\n",
      "...***********\n",
      "..*************\n",
      ".***************\n",
      "*****************\n",
      ".***************\n",
      "..*************\n",
      "...***********\n",
      "....*********\n",
      ".....*******\n",
      "......*****\n",
      ".......***\n",
      "........*\n"
     ]
    }
   ],
   "source": [
    "n = int(input(\"Please enter the ODD number of layers: \"))\n",
    "m = (n + 1) // 2\n",
    "for i in range(1, n + 1):\n",
    "    if (i > m):\n",
    "        print (\".\" * (i - m) + \"*\" * (2 * (n - i) + 1))\n",
    "    else:\n",
    "        print (\".\" * (m - i) + \"*\" * (2 * i - 1))"
   ]
  },
  {
   "cell_type": "code",
   "execution_count": 2,
   "id": "2278ed8a-ae85-4990-8a7b-85f2d55cdc2f",
   "metadata": {},
   "outputs": [
    {
     "name": "stdout",
     "output_type": "stream",
     "text": [
      "Executing for count = 1\n",
      "Executing for count = 3\n",
      "Executing for count = 5\n",
      "Executing for count = 7\n",
      "Executing for count = 9\n",
      "End of the looping...\n"
     ]
    }
   ],
   "source": [
    "count = 1\n",
    "while (count <= 10):\n",
    "    print (\"Executing for count =\", count)\n",
    "    count = count + 2\n",
    "print (\"End of the looping...\")"
   ]
  },
  {
   "cell_type": "markdown",
   "id": "fe9bf3a1-bb40-40d3-b416-3dc5521aa89c",
   "metadata": {},
   "source": [
    "### Conditional Statements"
   ]
  },
  {
   "cell_type": "code",
   "execution_count": 5,
   "id": "0d40ec8e-76d7-4fab-8afd-dcb2a6580b11",
   "metadata": {},
   "outputs": [
    {
     "name": "stdin",
     "output_type": "stream",
     "text": [
      "Please enter the first number:  300\n",
      "Please enter the second number:  100\n",
      "Please enter the third number:  200\n"
     ]
    },
    {
     "name": "stdout",
     "output_type": "stream",
     "text": [
      "So the maximum number is 300\n",
      "End of the program...\n"
     ]
    }
   ],
   "source": [
    "num1 = int(input(\"Please enter the first number: \"))\n",
    "num2 = int(input(\"Please enter the second number: \"))\n",
    "num3 = int(input(\"Please enter the third number: \"))\n",
    "if (num1 > num2 and num1 > num3):\n",
    "    print (\"So the maximum number is\", num1)\n",
    "elif (num2 > num3):\n",
    "    print (\"So the maximum number is\", num2)\n",
    "else:\n",
    "    print (\"So the maximum number is\", num3)\n",
    "print (\"End of the program...\")"
   ]
  },
  {
   "cell_type": "code",
   "execution_count": 6,
   "id": "d31b27d5-08c5-4ac6-adcc-29f2c4050704",
   "metadata": {},
   "outputs": [
    {
     "name": "stdout",
     "output_type": "stream",
     "text": [
      "EVEN number is 2\n",
      "EVEN number is 4\n",
      "EVEN number is 6\n",
      "EVEN number is 8\n",
      "EVEN number is 10\n",
      "EVEN number is 12\n",
      "EVEN number is 14\n",
      "EVEN number is 16\n",
      "EVEN number is 18\n",
      "EVEN number is 20\n",
      "End of the program...\n"
     ]
    }
   ],
   "source": [
    "for num in range(1, 21):\n",
    "    if (num % 2 == 0):\n",
    "        print (\"EVEN number is\", num)\n",
    "    \n",
    "print (\"End of the program...\")"
   ]
  },
  {
   "cell_type": "code",
   "execution_count": 7,
   "id": "3a023af5-765d-44aa-8384-a8baa3f4092a",
   "metadata": {},
   "outputs": [
    {
     "name": "stdout",
     "output_type": "stream",
     "text": [
      "Visit Doctor...\n",
      "Good morning...\n",
      "Day No.: 1 and Medicine No.: 1\n",
      "Day No.: 1 and Medicine No.: 2\n",
      "Day No.: 1 and Medicine No.: 3\n",
      "Good night...\n",
      "------------------------------------------------------------\n",
      "Good morning...\n",
      "Day No.: 2 and Medicine No.: 1\n",
      "Day No.: 2 and Medicine No.: 2\n",
      "Day No.: 2 and Medicine No.: 3\n",
      "Good night...\n",
      "------------------------------------------------------------\n",
      "Good morning...\n",
      "Day No.: 3 and Medicine No.: 1\n",
      "Day No.: 3 and Medicine No.: 2\n",
      "Day No.: 3 and Medicine No.: 3\n",
      "Good night...\n",
      "------------------------------------------------------------\n",
      "Good morning...\n",
      "Day No.: 4 and Medicine No.: 1\n",
      "Day No.: 4 and Medicine No.: 2\n",
      "Day No.: 4 and Medicine No.: 3\n",
      "Good night...\n",
      "------------------------------------------------------------\n",
      "Good morning...\n",
      "Day No.: 5 and Medicine No.: 1\n",
      "Day No.: 5 and Medicine No.: 2\n",
      "Day No.: 5 and Medicine No.: 3\n",
      "Good night...\n",
      "------------------------------------------------------------\n",
      "Thanks to Doctor...\n"
     ]
    }
   ],
   "source": [
    "print (\"Visit Doctor...\")   # 1 time\n",
    "for day in range(1, 6):\n",
    "    print (\"Good morning...\")   # 5 times\n",
    "    for medi in range(1, 4):\n",
    "        print (f\"Day No.: {day} and Medicine No.: {medi}\")   # 15 times\n",
    "    print (\"Good night...\")   # 5 times\n",
    "    print (\"------------------------------------------------------------\")   # 5 times\n",
    "print (\"Thanks to Doctor...\")   # 1 time"
   ]
  },
  {
   "cell_type": "code",
   "execution_count": 13,
   "id": "3e35d29a-167d-4b34-8765-1e9d910a4ad0",
   "metadata": {},
   "outputs": [
    {
     "name": "stdout",
     "output_type": "stream",
     "text": [
      "[100, 2.45, False, 'Country', 20] 5 <class 'list'> 2643731833408\n",
      "(100, 2.45, False, 'Country', 20) 5 <class 'tuple'> 2643716093488\n",
      "{'apple': 150, 'banana': 65, 'mango': 33} 3 <class 'dict'> 2643731345344\n",
      "{False, 2.45, 100, 20, 'Country'} 5 <class 'set'> 2643734380832\n",
      "frozenset({False, 2.45, 100, 20, 'Country'}) 5 <class 'frozenset'> 2643734381056\n"
     ]
    }
   ],
   "source": [
    "list1 = [100, 2.45, False, \"Country\", 20]\n",
    "print (list1, len(list1), type(list1), id(list1))\n",
    "tuple1 = (100, 2.45, False, \"Country\", 20)\n",
    "print (tuple1, len(tuple1), type(tuple1), id(tuple1))\n",
    "dict1 = {\"apple\":150, \"banana\":45, \"mango\":33, \"banana\":65}\n",
    "print (dict1, len(dict1), type(dict1), id(dict1))\n",
    "set1 = {100, 2.45, False, \"Country\", 20, 100, 2.45, False, \"Country\", 20}\n",
    "print (set1, len(set1), type(set1), id(set1))\n",
    "frozenset1 = frozenset([100, 2.45, False, \"Country\", 20, 100, 2.45, False, \"Country\", 20])\n",
    "print (frozenset1, len(frozenset1), type(frozenset1), id(frozenset1))"
   ]
  },
  {
   "cell_type": "markdown",
   "id": "f7fb9715-8c09-439f-af3f-e50dac446474",
   "metadata": {},
   "source": [
    "### Python functions"
   ]
  },
  {
   "cell_type": "code",
   "execution_count": 14,
   "id": "c2353d3e-dbdc-4689-b4c4-6190e2d1c5c1",
   "metadata": {},
   "outputs": [
    {
     "name": "stdout",
     "output_type": "stream",
     "text": [
      "Hello Hello Hello Hello Hello \n",
      "Hello Hello Hello Hello Hello \n",
      "Hello Hello Hello Hello Hello \n"
     ]
    }
   ],
   "source": [
    "def funct1():\n",
    "    print (\"Hello \" * 5)\n",
    "    \n",
    "funct1()\n",
    "funct1()\n",
    "funct1()"
   ]
  },
  {
   "cell_type": "code",
   "execution_count": 15,
   "id": "f77ff4b7-5c86-4438-95b2-781f3a3b8000",
   "metadata": {},
   "outputs": [
    {
     "name": "stdout",
     "output_type": "stream",
     "text": [
      "Hello !!! Hello !!! Hello !!! Hello !!! Hello !!! Hello !!! \n",
      "Hi... Hi... Hi... Hi... \n",
      "Welcome Welcome Welcome Welcome Welcome Welcome Welcome Welcome Welcome Welcome \n"
     ]
    }
   ],
   "source": [
    "def funct2(msg, times):\n",
    "    print (msg * times)\n",
    "    \n",
    "funct2(\"Hello !!! \", 6)\n",
    "funct2(\"Hi... \", 4)\n",
    "funct2(\"Welcome \", 10)"
   ]
  },
  {
   "cell_type": "code",
   "execution_count": 20,
   "id": "f35b34d7-7751-4a7c-b745-6ee28b7becf5",
   "metadata": {},
   "outputs": [
    {
     "name": "stdout",
     "output_type": "stream",
     "text": [
      "140 60 4000 2.5 20\n",
      "(140, 60, 4000, 2.5, 20) 5 <class 'tuple'> 2643735273040\n",
      "140 60 4000 2.5 20\n"
     ]
    }
   ],
   "source": [
    "def funct3(num1, num2):\n",
    "    total = num1 + num2\n",
    "    diff = num1 - num2\n",
    "    prod = num1 * num2\n",
    "    quot = num1 / num2\n",
    "    remain = num1 % num2\n",
    "    return total, diff, prod, quot, remain\n",
    "\n",
    "tt, dd, pp, qq, rr = funct3(100, 40)\n",
    "print (tt, dd, pp, qq, rr)\n",
    "result = funct3(100, 40)\n",
    "print (result, len(result), type(result), id(result))\n",
    "print (result[0], result[1], result[2], result[3], result[4])"
   ]
  },
  {
   "cell_type": "code",
   "execution_count": 10,
   "id": "eae0fe4c-6c9d-41b7-b5c5-7eec1fc33037",
   "metadata": {},
   "outputs": [
    {
     "name": "stdout",
     "output_type": "stream",
     "text": [
      "So par1 = 100, par2 = 200 and par3 = 300...\n",
      "So par1 = 100, par2 = 200 and par3 = 333...\n",
      "So par1 = 100, par2 = 222 and par3 = 333...\n",
      "So par1 = 111, par2 = 222 and par3 = 333...\n",
      "So par1 = 100, par2 = 222 and par3 = 300...\n"
     ]
    }
   ],
   "source": [
    "# Function with default arguments\n",
    "def funct4(par1 = 111, par2 = 222, par3 = 333):    # positional parameters\n",
    "    print (f\"So par1 = {par1}, par2 = {par2} and par3 = {par3}...\")\n",
    "    \n",
    "funct4(100, 200, 300)   # positional arguments\n",
    "funct4(100, 200)\n",
    "funct4(100)\n",
    "funct4()\n",
    "funct4(par3 = 300, par1 = 100)"
   ]
  },
  {
   "cell_type": "code",
   "execution_count": 11,
   "id": "5e874fdb-4fed-4142-b5c0-c634fe076797",
   "metadata": {},
   "outputs": [
    {
     "name": "stdout",
     "output_type": "stream",
     "text": [
      "1000\n",
      "200\n"
     ]
    }
   ],
   "source": [
    "def funct5(par1, par2 = None):\n",
    "    if (par2 == None):\n",
    "        return par1 + par1\n",
    "    else:\n",
    "        return par1 + par2\n",
    "    \n",
    "result = funct5(100, 900)\n",
    "print (result)\n",
    "result = funct5(100)\n",
    "print (result)"
   ]
  },
  {
   "cell_type": "code",
   "execution_count": 14,
   "id": "7c0abe0b-dad4-4a6e-b118-9d0b1c05a864",
   "metadata": {},
   "outputs": [
    {
     "name": "stdout",
     "output_type": "stream",
     "text": [
      "(1001, 'Jack', 'Developer', 34, 'Male', 5000) 6 <class 'tuple'>\n",
      "(1001, 'Jack', 'Developer', 34, 'Male') 5 <class 'tuple'>\n",
      "(1001, 'Jack', 'Developer', 34) 4 <class 'tuple'>\n"
     ]
    }
   ],
   "source": [
    "# function with variable number of arguments\n",
    "def funct6(*arg):\n",
    "    print (arg, len(arg), type(arg))\n",
    "    \n",
    "funct6(1001, 'Jack', 'Developer', 34, 'Male', 5000)\n",
    "funct6(1001, 'Jack', 'Developer', 34, 'Male')\n",
    "funct6(1001, 'Jack', 'Developer', 34)"
   ]
  },
  {
   "cell_type": "code",
   "execution_count": 16,
   "id": "0b625b35-adb2-4b44-b007-cffd95c3ad86",
   "metadata": {},
   "outputs": [
    {
     "name": "stdout",
     "output_type": "stream",
     "text": [
      "{'empid': 1001, 'empname': 'Jack', 'empdesig': 'Developer', 'empage': 34, 'empgender': 'Male', 'empsal': 5000} 6 <class 'dict'>\n",
      "{'empid': 1001, 'empname': 'Jack', 'empdesig': 'Developer', 'empage': 34, 'empgender': 'Male'} 5 <class 'dict'>\n",
      "{'empid': 1001, 'empname': 'Jack', 'empdesig': 'Developer', 'empage': 34} 4 <class 'dict'>\n"
     ]
    }
   ],
   "source": [
    "def funct7(**kwarg):    # key-word argument\n",
    "    print (kwarg, len(kwarg), type(kwarg))\n",
    "    \n",
    "funct7(empid = 1001, empname = 'Jack', empdesig = 'Developer', empage = 34, empgender = 'Male', empsal = 5000)\n",
    "funct7(empid = 1001, empname = 'Jack', empdesig = 'Developer', empage = 34, empgender = 'Male')\n",
    "funct7(empid = 1001, empname = 'Jack', empdesig = 'Developer', empage = 34)"
   ]
  },
  {
   "cell_type": "code",
   "execution_count": 19,
   "id": "6419ad7b-0b2a-48da-a8cb-463f25095131",
   "metadata": {},
   "outputs": [
    {
     "name": "stdout",
     "output_type": "stream",
     "text": [
      "n = 10 and n * n = 100...\n",
      "n = 12 and n * n = 144...\n",
      "<class 'function'>\n"
     ]
    }
   ],
   "source": [
    "# lambda function\n",
    "mysquare = lambda num: num * num\n",
    "\n",
    "n = 10\n",
    "print (f\"n = {n} and n * n = {mysquare(n)}...\")\n",
    "n = 12\n",
    "print (f\"n = {n} and n * n = {mysquare(n)}...\")\n",
    "print (type(mysquare))"
   ]
  },
  {
   "cell_type": "code",
   "execution_count": 21,
   "id": "977ec04e-d072-4373-9799-874abac13484",
   "metadata": {},
   "outputs": [
    {
     "name": "stdout",
     "output_type": "stream",
     "text": [
      "n1 = 10, n2 = 30 and 10 + 30 = 40...\n",
      "n1 = 100, n2 = 300 and 100 + 300 = 400...\n",
      "<class 'function'>\n"
     ]
    }
   ],
   "source": [
    "myaddition = lambda num1, num2: num1 + num2\n",
    "\n",
    "n1 = 10; n2 = 30\n",
    "print (f\"n1 = {n1}, n2 = {n2} and {n1} + {n2} = {myaddition(n1, n2)}...\")\n",
    "n1 = 100; n2 = 300\n",
    "print (f\"n1 = {n1}, n2 = {n2} and {n1} + {n2} = {myaddition(n1, n2)}...\")\n",
    "print (type(myaddition))"
   ]
  },
  {
   "cell_type": "code",
   "execution_count": 22,
   "id": "d4b9780e-9820-42e6-83a9-384b66c9e5ea",
   "metadata": {},
   "outputs": [
    {
     "name": "stdout",
     "output_type": "stream",
     "text": [
      "1/2 ABCD Road 13 <class 'str'> 1647903490096\n"
     ]
    }
   ],
   "source": [
    "# String Processing, it consists of alpha-numeric characters and special characters\n",
    "mystr = \"1/2 ABCD Road\"\n",
    "print (mystr, len(mystr), type(mystr), id(mystr))"
   ]
  },
  {
   "cell_type": "code",
   "execution_count": 25,
   "id": "e103f9cb-ab4d-4340-ba15-39465b6f711f",
   "metadata": {},
   "outputs": [
    {
     "name": "stdout",
     "output_type": "stream",
     "text": [
      "oxForD uniVErsItY 17 <class 'str'> 1647895941488\n",
      "OXFORD UNIVERSITY 17 <class 'str'> 1647907490352\n",
      "oxford university 17 <class 'str'> 1647904934928\n",
      "Oxford University 17 <class 'str'> 1647904935008\n",
      "Oxford university 17 <class 'str'> 1647904935088\n"
     ]
    }
   ],
   "source": [
    "mystr = \"oxForD uniVErsItY\"\n",
    "print (mystr, len(mystr), type(mystr), id(mystr))\n",
    "mystr1 = mystr.upper()\n",
    "print (mystr1, len(mystr1), type(mystr1), id(mystr1))\n",
    "mystr1 = mystr.lower()\n",
    "print (mystr1, len(mystr1), type(mystr1), id(mystr1))\n",
    "mystr1 = mystr.title()\n",
    "print (mystr1, len(mystr1), type(mystr1), id(mystr1))\n",
    "mystr1 = mystr.capitalize()\n",
    "print (mystr1, len(mystr1), type(mystr1), id(mystr1))"
   ]
  },
  {
   "cell_type": "code",
   "execution_count": 32,
   "id": "dd7c3acb-c96a-4df5-810d-a7ce9f2aec65",
   "metadata": {},
   "outputs": [
    {
     "name": "stdout",
     "output_type": "stream",
     "text": [
      "university 10 <class 'str'> 1647895839216\n",
      "v r t\n",
      "ver ver ver ver\n"
     ]
    }
   ],
   "source": [
    "# L2R    0        9\n",
    "mystr = \"university\"\n",
    "# R2L  -10       -1\n",
    "print (mystr, len(mystr), type(mystr), id(mystr))\n",
    "print (mystr[3], mystr[5], mystr[-2])   # indexing\n",
    "print (mystr[3:6], mystr[-7:-4], mystr[3:-4], mystr[-7:6])   # slicing"
   ]
  },
  {
   "cell_type": "code",
   "execution_count": null,
   "id": "b76c9dd0-a25b-48d9-9039-5a30bbef8f18",
   "metadata": {},
   "outputs": [],
   "source": [
    "# dealing with the list\n",
    "list1 = [100, 2.45, False, \"Country\", 20]\n",
    "print (list1, len(list1), type(list1), id(list1))"
   ]
  },
  {
   "cell_type": "code",
   "execution_count": 39,
   "id": "d3d46351-29f8-4866-8072-078f5329f103",
   "metadata": {},
   "outputs": [
    {
     "name": "stdout",
     "output_type": "stream",
     "text": [
      "[100, 200, 300, 400, 500] 5\n",
      "[100, 200, 300, 400, 500, 700] 6\n",
      "[100, 200, 300, 400, 850, 500, 700] 7\n",
      "[100, 200, 300, 400, 500, 700] 6\n",
      "[100, 200, 333, 400, 500, 700] 6\n"
     ]
    }
   ],
   "source": [
    "list1 = [100, 200, 300, 400, 500]\n",
    "print (list1, len(list1))\n",
    "list1.append(700)\n",
    "print (list1, len(list1))\n",
    "list1.insert(4, 850)\n",
    "print (list1, len(list1))\n",
    "list1.remove(850)\n",
    "print (list1, len(list1))\n",
    "list1[2] = 333\n",
    "print (list1, len(list1))"
   ]
  },
  {
   "cell_type": "code",
   "execution_count": null,
   "id": "64cc52f3-557d-4500-b45d-41096b60958e",
   "metadata": {},
   "outputs": [],
   "source": [
    "# dealing with the tuple\n",
    "tuple1 = (100, 2.45, False, \"Country\", 20)\n",
    "print (tuple1, len(tuple1), type(tuple1), id(tuple1))"
   ]
  },
  {
   "cell_type": "code",
   "execution_count": 40,
   "id": "b9fe8d5c-9d6e-454c-a342-b8f327e4bd8d",
   "metadata": {},
   "outputs": [
    {
     "name": "stdout",
     "output_type": "stream",
     "text": [
      "{'apple': 150, 'banana': 65, 'mango': 33} 3 <class 'dict'> 1647897466752\n"
     ]
    }
   ],
   "source": [
    "# dealing with dictionary\n",
    "dict1 = {\"apple\":150, \"banana\":45, \"mango\":33, \"banana\":65}\n",
    "print (dict1, len(dict1), type(dict1), id(dict1))"
   ]
  },
  {
   "cell_type": "code",
   "execution_count": 45,
   "id": "1dc4df1c-89e6-4c34-a321-a3a38887afc9",
   "metadata": {},
   "outputs": [
    {
     "name": "stdout",
     "output_type": "stream",
     "text": [
      "65\n",
      "None\n",
      "Not found\n"
     ]
    }
   ],
   "source": [
    "# reading value against the key from the dictionary\n",
    "print (dict1.get(\"banana\"))\n",
    "print (dict1.get(\"Banana\"))\n",
    "print (dict1.get(\"Banana\", \"Not found\"))"
   ]
  },
  {
   "cell_type": "code",
   "execution_count": 51,
   "id": "04a55db2-d568-4fdc-8a40-a2ac3140db5b",
   "metadata": {},
   "outputs": [
    {
     "name": "stdout",
     "output_type": "stream",
     "text": [
      "{'apple': 150, 'banana': 65} 2 <class 'dict'> 1647896069632\n",
      "{'apple': 150, 'banana': 65, 'mango': 99} 3 <class 'dict'> 1647896069632\n"
     ]
    }
   ],
   "source": [
    "# insert into the dictionary\n",
    "dict1 = {\"apple\":150, \"banana\":45, \"banana\":65}\n",
    "print (dict1, len(dict1), type(dict1), id(dict1))\n",
    "dict1['mango'] = 99\n",
    "print (dict1, len(dict1), type(dict1), id(dict1))"
   ]
  },
  {
   "cell_type": "code",
   "execution_count": 50,
   "id": "c2d38067-8040-482b-bf20-e1475115dd05",
   "metadata": {},
   "outputs": [
    {
     "name": "stdout",
     "output_type": "stream",
     "text": [
      "{'apple': 550, 'banana': 65, 'mango': 33} 3 <class 'dict'> 1647897426176\n"
     ]
    }
   ],
   "source": [
    "# update onto the dictionary\n",
    "dict1['apple'] = 550\n",
    "print (dict1, len(dict1), type(dict1), id(dict1))"
   ]
  },
  {
   "cell_type": "code",
   "execution_count": 55,
   "id": "6f50c8d7-e923-48f4-8c28-e043d5ac5b3e",
   "metadata": {},
   "outputs": [
    {
     "name": "stdout",
     "output_type": "stream",
     "text": [
      "{'apple': 150, 'banana': 45, 'mango': 450} 3 <class 'dict'> 1647898483520\n",
      "{'apple': 150, 'mango': 450} 2 <class 'dict'> 1647898483520\n"
     ]
    }
   ],
   "source": [
    "# delete from the dictionary\n",
    "dict1 = {\"apple\":150, \"banana\":45, \"mango\":450}\n",
    "print (dict1, len(dict1), type(dict1), id(dict1))\n",
    "dict1.pop(\"banana\")\n",
    "print (dict1, len(dict1), type(dict1), id(dict1))"
   ]
  },
  {
   "cell_type": "code",
   "execution_count": 56,
   "id": "fc905f60-658e-4dc3-8e3f-0ad310667493",
   "metadata": {},
   "outputs": [
    {
     "name": "stdout",
     "output_type": "stream",
     "text": [
      "{100, 200, 300, 400, 600} 5 <class 'set'> 1647904627392\n"
     ]
    }
   ],
   "source": [
    "# dealing with set\n",
    "set1 = {300, 200, 400, 100, 600}\n",
    "print (set1, len(set1), type(set1), id(set1))"
   ]
  },
  {
   "cell_type": "code",
   "execution_count": 57,
   "id": "dce88a3d-0318-4eac-af6f-08e66c095620",
   "metadata": {},
   "outputs": [
    {
     "name": "stdout",
     "output_type": "stream",
     "text": [
      "{100, 200, 300, 400, 600} 5 <class 'set'> 1647904628512\n",
      "{320, 100, 900, 200, 300, 400, 600} 7 <class 'set'> 1647904628512\n"
     ]
    }
   ],
   "source": [
    "# insert operation on a set\n",
    "set1 = {300, 200, 400, 100, 600}\n",
    "print (set1, len(set1), type(set1), id(set1))\n",
    "set1.add(900)\n",
    "set1.add(320)\n",
    "print (set1, len(set1), type(set1), id(set1))"
   ]
  },
  {
   "cell_type": "code",
   "execution_count": 60,
   "id": "c9abf302-a7f9-47b0-89e8-3f161746616d",
   "metadata": {},
   "outputs": [
    {
     "name": "stdout",
     "output_type": "stream",
     "text": [
      "{100, 200, 300, 400, 600} 5 <class 'set'> 1647901668960\n",
      "{300, 400, 600} 3 <class 'set'> 1647901668960\n",
      "300\n",
      "400\n",
      "{600} 1 <class 'set'> 1647901668960\n"
     ]
    }
   ],
   "source": [
    "# delete operation on a set\n",
    "set1 = {300, 200, 400, 100, 600}\n",
    "print (set1, len(set1), type(set1), id(set1))\n",
    "set1.remove(200)\n",
    "set1.remove(100)\n",
    "print (set1, len(set1), type(set1), id(set1))\n",
    "print (set1.pop())\n",
    "print (set1.pop())\n",
    "print (set1, len(set1), type(set1), id(set1))"
   ]
  },
  {
   "cell_type": "code",
   "execution_count": 61,
   "id": "5e260a6c-6d05-45bf-bfdb-a07ccbce2487",
   "metadata": {},
   "outputs": [
    {
     "name": "stdout",
     "output_type": "stream",
     "text": [
      "{100, 200, 300, 400, 600} 5 <class 'set'> 1647901670976\n",
      "{800, 100, 300, 400, 600} 5 <class 'set'> 1647901670976\n"
     ]
    }
   ],
   "source": [
    "# delete operation on a set\n",
    "set1 = {300, 200, 400, 100, 600}\n",
    "print (set1, len(set1), type(set1), id(set1))\n",
    "set1.remove(200)\n",
    "set1.add(800)\n",
    "print (set1, len(set1), type(set1), id(set1))"
   ]
  },
  {
   "cell_type": "code",
   "execution_count": 33,
   "id": "b7fa1b54-ef89-4f40-93e3-d7f06cf610ea",
   "metadata": {},
   "outputs": [
    {
     "name": "stdout",
     "output_type": "stream",
     "text": [
      "frozenset({False, 2.45, 100, 20, 'Country'}) 5 <class 'frozenset'> 1647901540864\n"
     ]
    }
   ],
   "source": [
    "# dealing with frozen-set\n",
    "frozenset1 = frozenset([100, 2.45, False, \"Country\", 20, 100, 2.45, False, \"Country\", 20])\n",
    "print (frozenset1, len(frozenset1), type(frozenset1), id(frozenset1))"
   ]
  },
  {
   "cell_type": "code",
   "execution_count": null,
   "id": "4293f96f-ba90-4b41-96c2-4aba1b37785a",
   "metadata": {},
   "outputs": [],
   "source": []
  }
 ],
 "metadata": {
  "kernelspec": {
   "display_name": "Python 3",
   "language": "python",
   "name": "python3"
  },
  "language_info": {
   "codemirror_mode": {
    "name": "ipython",
    "version": 3
   },
   "file_extension": ".py",
   "mimetype": "text/x-python",
   "name": "python",
   "nbconvert_exporter": "python",
   "pygments_lexer": "ipython3",
   "version": "3.8.8"
  }
 },
 "nbformat": 4,
 "nbformat_minor": 5
}
