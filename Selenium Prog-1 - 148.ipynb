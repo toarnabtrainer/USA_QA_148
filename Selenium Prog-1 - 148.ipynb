{
 "cells": [
  {
   "cell_type": "markdown",
   "id": "db1efe8a-4b9c-47f0-8cae-f61f8b5b08eb",
   "metadata": {},
   "source": [
    "### Start Chrome Driver using executable path and start any webpage with get() function"
   ]
  },
  {
   "cell_type": "code",
   "execution_count": 3,
   "id": "e75c5fee-b21d-44c8-9763-dcc1bc52add8",
   "metadata": {},
   "outputs": [],
   "source": [
    "# importing required modules\n",
    "from selenium import webdriver"
   ]
  },
  {
   "cell_type": "code",
   "execution_count": 4,
   "id": "7eba5350-4838-493b-b91b-8001b5b4a116",
   "metadata": {},
   "outputs": [
    {
     "name": "stdout",
     "output_type": "stream",
     "text": [
      "4.1.3\n"
     ]
    }
   ],
   "source": [
    "# check the version of Selenium\n",
    "print (webdriver.__version__)"
   ]
  },
  {
   "cell_type": "code",
   "execution_count": 5,
   "id": "47166313-f2fc-4490-9cef-85c80d31f862",
   "metadata": {},
   "outputs": [
    {
     "name": "stderr",
     "output_type": "stream",
     "text": [
      "<ipython-input-5-b7d669f8477f>:3: DeprecationWarning: executable_path has been deprecated, please pass in a Service object\n",
      "  driver = webdriver.Chrome(executable_path=\"./chromedriver.exe\")\n"
     ]
    }
   ],
   "source": [
    "# please check chromedriver.exe should be present in the same directory\n",
    "# otherwise provide the relative path to access it\n",
    "driver = webdriver.Chrome(executable_path=\"./chromedriver.exe\")"
   ]
  },
  {
   "cell_type": "code",
   "execution_count": 6,
   "id": "429fd003-cd8a-4e6a-95e4-74f21ce73e24",
   "metadata": {},
   "outputs": [],
   "source": [
    "# start wikipedia page\n",
    "driver.get(\"https://en.wikipedia.org/wiki/Main_Page\")"
   ]
  },
  {
   "cell_type": "code",
   "execution_count": null,
   "id": "58ab29ca-a0f4-4ffc-ba55-5e6488544e3f",
   "metadata": {},
   "outputs": [],
   "source": []
  },
  {
   "cell_type": "code",
   "execution_count": null,
   "id": "b9c4ac99-ad71-4df2-bf2e-bfa0ada57a9f",
   "metadata": {},
   "outputs": [],
   "source": []
  },
  {
   "cell_type": "code",
   "execution_count": null,
   "id": "d77bd82f-1b74-4ef3-ae42-f8736e45c167",
   "metadata": {},
   "outputs": [],
   "source": []
  },
  {
   "cell_type": "code",
   "execution_count": null,
   "id": "bc633e1d-cdb6-4327-8b10-7d24d2808e8d",
   "metadata": {},
   "outputs": [],
   "source": []
  },
  {
   "cell_type": "code",
   "execution_count": null,
   "id": "67933840-0c2c-4a95-9226-4877cd79ac9f",
   "metadata": {},
   "outputs": [],
   "source": []
  },
  {
   "cell_type": "code",
   "execution_count": null,
   "id": "95363c2c-5f71-4f3c-b1a7-3841b6d25401",
   "metadata": {},
   "outputs": [],
   "source": []
  }
 ],
 "metadata": {
  "kernelspec": {
   "display_name": "Python 3",
   "language": "python",
   "name": "python3"
  },
  "language_info": {
   "codemirror_mode": {
    "name": "ipython",
    "version": 3
   },
   "file_extension": ".py",
   "mimetype": "text/x-python",
   "name": "python",
   "nbconvert_exporter": "python",
   "pygments_lexer": "ipython3",
   "version": "3.8.8"
  }
 },
 "nbformat": 4,
 "nbformat_minor": 5
}
