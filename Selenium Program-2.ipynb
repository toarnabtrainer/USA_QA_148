{
 "cells": [
  {
   "cell_type": "markdown",
   "id": "553bd68c-1dda-4d73-aab9-d6097163bcba",
   "metadata": {},
   "source": [
    "## Selenium Control Options to write text, button press, select menu and others"
   ]
  },
  {
   "cell_type": "code",
   "execution_count": 33,
   "id": "50c6fd9c-d007-4a3b-9353-3d0ca2c9e891",
   "metadata": {},
   "outputs": [
    {
     "name": "stdout",
     "output_type": "stream",
     "text": [
      "4.1.3\n"
     ]
    }
   ],
   "source": [
    "# importing required modules\n",
    "from selenium import webdriver\n",
    "\n",
    "# check the version of the selenium driver\n",
    "print (webdriver.__version__)"
   ]
  },
  {
   "cell_type": "code",
   "execution_count": 34,
   "id": "808a240a-625e-4bbb-b986-c5037ccb02ef",
   "metadata": {},
   "outputs": [
    {
     "name": "stderr",
     "output_type": "stream",
     "text": [
      "<ipython-input-34-3ecf5a2d96b2>:3: DeprecationWarning: executable_path has been deprecated, please pass in a Service object\n",
      "  driver = webdriver.Chrome(executable_path = './chromedriver.exe')\n"
     ]
    }
   ],
   "source": [
    "# please check whether the chromedriver.exe is present in the current directory or not\n",
    "# otherwise privide the relative or absolute paths\n",
    "driver = webdriver.Chrome(executable_path = './chromedriver.exe')"
   ]
  },
  {
   "cell_type": "code",
   "execution_count": 35,
   "id": "c8af51a7-341e-40ba-b020-8bc0c231443b",
   "metadata": {},
   "outputs": [],
   "source": [
    "# start a web page to calculate the nCr operation\n",
    "# www.calculatorsoup.com -> Discrete Mathematics -> Combinations Calculator -> The desired page will be obtained\n",
    "URL = 'https://www.calculatorsoup.com/calculators/discretemathematics/combinations.php'\n",
    "driver.get(URL)"
   ]
  },
  {
   "cell_type": "code",
   "execution_count": 36,
   "id": "6e89f9d4-f676-462a-95f9-d6a9f84595c9",
   "metadata": {},
   "outputs": [
    {
     "name": "stderr",
     "output_type": "stream",
     "text": [
      "<ipython-input-36-8075dbdc66a3>:2: DeprecationWarning: find_element_by_xpath is deprecated. Please use find_element(by=By.XPATH, value=xpath) instead\n",
      "  n_input = driver.find_element_by_xpath('//*[@id=\"n\"]')\n"
     ]
    }
   ],
   "source": [
    "# inside the page, input the value of n\n",
    "n_input = driver.find_element_by_xpath('//*[@id=\"n\"]')\n",
    "n_input.send_keys(10)"
   ]
  },
  {
   "cell_type": "code",
   "execution_count": 37,
   "id": "067a5067-d9d0-4d97-8971-753235c1b47c",
   "metadata": {},
   "outputs": [
    {
     "name": "stderr",
     "output_type": "stream",
     "text": [
      "<ipython-input-37-7289ff597b68>:2: DeprecationWarning: find_element_by_xpath is deprecated. Please use find_element(by=By.XPATH, value=xpath) instead\n",
      "  n_input = driver.find_element_by_xpath('//*[@id=\"r\"]')\n"
     ]
    }
   ],
   "source": [
    "# inside the page, input the value of r\n",
    "n_input = driver.find_element_by_xpath('//*[@id=\"r\"]')\n",
    "n_input.send_keys(6)"
   ]
  },
  {
   "cell_type": "code",
   "execution_count": 21,
   "id": "9f2460c5-4c6a-47eb-8479-d2a9a5d57abc",
   "metadata": {},
   "outputs": [],
   "source": [
    "# otherwise\n",
    "# to press keys through Selenium web-driver, we are using this library\n",
    "from selenium.webdriver.common.keys import Keys\n",
    "\n",
    "# press tab ket to go to the next input area\n",
    "n_input.send_keys(Keys.TAB)\n",
    "\n",
    "# select currently selected input area\n",
    "r_input = driver.switch_to.active_element\n",
    "\n",
    "# put the value of r inside\n",
    "r_input.clear()\n",
    "r_input.send_keys('6')"
   ]
  },
  {
   "cell_type": "code",
   "execution_count": 38,
   "id": "1d18516b-89be-46ad-89f3-5ce1f193f15a",
   "metadata": {},
   "outputs": [
    {
     "name": "stderr",
     "output_type": "stream",
     "text": [
      "<ipython-input-38-b170d55e4932>:2: DeprecationWarning: find_element_by_xpath is deprecated. Please use find_element(by=By.XPATH, value=xpath) instead\n",
      "  calculate_button = driver.find_element_by_xpath('//*[@id=\"calculateButton\"]')\n"
     ]
    }
   ],
   "source": [
    "# now to go to the 'calculate' button and click it\n",
    "calculate_button = driver.find_element_by_xpath('//*[@id=\"calculateButton\"]')\n",
    "calculate_button.click()"
   ]
  },
  {
   "cell_type": "code",
   "execution_count": 39,
   "id": "41cb4a0a-71bf-4e12-a5f5-83bbe304543d",
   "metadata": {},
   "outputs": [
    {
     "name": "stdout",
     "output_type": "stream",
     "text": [
      "So the calculated result = = 210\n"
     ]
    },
    {
     "name": "stderr",
     "output_type": "stream",
     "text": [
      "<ipython-input-39-4b201b0774ed>:1: DeprecationWarning: find_element_by_xpath is deprecated. Please use find_element(by=By.XPATH, value=xpath) instead\n",
      "  result_area = driver.find_element_by_xpath('//*[@id=\"answer\"]/div[1]')\n"
     ]
    }
   ],
   "source": [
    "result_area = driver.find_element_by_xpath('//*[@id=\"answer\"]/div[1]')\n",
    "result=result_area.text\n",
    "print (\"So the calculated result =\", result)"
   ]
  },
  {
   "cell_type": "code",
   "execution_count": 40,
   "id": "7de85a2f-e96d-4a38-ad72-841e2d182d6a",
   "metadata": {},
   "outputs": [
    {
     "name": "stdout",
     "output_type": "stream",
     "text": [
      "= 210\n",
      "210\n"
     ]
    }
   ],
   "source": [
    "print (result)\n",
    "final_result = result.split(\"=\")[1].strip()\n",
    "print (final_result)"
   ]
  },
  {
   "cell_type": "code",
   "execution_count": 41,
   "id": "8debe4a3-1a38-4c80-9702-c77de45d6724",
   "metadata": {},
   "outputs": [],
   "source": [
    "driver.close()"
   ]
  },
  {
   "cell_type": "code",
   "execution_count": null,
   "id": "4ed2cb86-5373-4c85-9ca7-3492cacbf6b0",
   "metadata": {},
   "outputs": [],
   "source": []
  }
 ],
 "metadata": {
  "kernelspec": {
   "display_name": "Python 3",
   "language": "python",
   "name": "python3"
  },
  "language_info": {
   "codemirror_mode": {
    "name": "ipython",
    "version": 3
   },
   "file_extension": ".py",
   "mimetype": "text/x-python",
   "name": "python",
   "nbconvert_exporter": "python",
   "pygments_lexer": "ipython3",
   "version": "3.8.8"
  }
 },
 "nbformat": 4,
 "nbformat_minor": 5
}
