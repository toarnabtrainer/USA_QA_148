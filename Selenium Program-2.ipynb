{
 "cells": [
  {
   "cell_type": "markdown",
   "id": "553bd68c-1dda-4d73-aab9-d6097163bcba",
   "metadata": {},
   "source": [
    "## Selenium Control Options to write text, button press, select menu and others"
   ]
  },
  {
   "cell_type": "code",
   "execution_count": 1,
   "id": "50c6fd9c-d007-4a3b-9353-3d0ca2c9e891",
   "metadata": {},
   "outputs": [
    {
     "name": "stdout",
     "output_type": "stream",
     "text": [
      "4.1.3\n"
     ]
    }
   ],
   "source": [
    "# importing required modules\n",
    "from selenium import webdriver\n",
    "\n",
    "# check the version of the selenium driver\n",
    "print (webdriver.__version__)"
   ]
  },
  {
   "cell_type": "code",
   "execution_count": 2,
   "id": "808a240a-625e-4bbb-b986-c5037ccb02ef",
   "metadata": {},
   "outputs": [
    {
     "name": "stderr",
     "output_type": "stream",
     "text": [
      "<ipython-input-2-3ecf5a2d96b2>:3: DeprecationWarning: executable_path has been deprecated, please pass in a Service object\n",
      "  driver = webdriver.Chrome(executable_path = './chromedriver.exe')\n"
     ]
    }
   ],
   "source": [
    "# please check whether the chromedriver.exe is present in the current directory or not\n",
    "# otherwise privide the relative or absolute paths\n",
    "driver = webdriver.Chrome(executable_path = './chromedriver.exe')"
   ]
  },
  {
   "cell_type": "code",
   "execution_count": 3,
   "id": "c8af51a7-341e-40ba-b020-8bc0c231443b",
   "metadata": {},
   "outputs": [],
   "source": [
    "# start a web page to calculate the nCr operation\n",
    "# www.calculatorsoup.com -> Discrete Mathematics -> Combinations Calculator -> The desired page will be obtained\n",
    "URL = 'https://www.calculatorsoup.com/calculators/discretemathematics/combinations.php'\n",
    "driver.get(URL)"
   ]
  },
  {
   "cell_type": "code",
   "execution_count": 4,
   "id": "6e89f9d4-f676-462a-95f9-d6a9f84595c9",
   "metadata": {},
   "outputs": [
    {
     "name": "stderr",
     "output_type": "stream",
     "text": [
      "<ipython-input-4-8075dbdc66a3>:2: DeprecationWarning: find_element_by_xpath is deprecated. Please use find_element(by=By.XPATH, value=xpath) instead\n",
      "  n_input = driver.find_element_by_xpath('//*[@id=\"n\"]')\n"
     ]
    }
   ],
   "source": [
    "# inside the page, input the value of n\n",
    "n_input = driver.find_element_by_xpath('//*[@id=\"n\"]')\n",
    "n_input.send_keys(10)"
   ]
  },
  {
   "cell_type": "code",
   "execution_count": 5,
   "id": "067a5067-d9d0-4d97-8971-753235c1b47c",
   "metadata": {},
   "outputs": [
    {
     "name": "stderr",
     "output_type": "stream",
     "text": [
      "<ipython-input-5-a36edd37b946>:2: DeprecationWarning: find_element_by_xpath is deprecated. Please use find_element(by=By.XPATH, value=xpath) instead\n",
      "  r_input = driver.find_element_by_xpath('//*[@id=\"r\"]')\n"
     ]
    }
   ],
   "source": [
    "# inside the page, input the value of r\n",
    "r_input = driver.find_element_by_xpath('//*[@id=\"r\"]')\n",
    "r_input.send_keys(6)"
   ]
  },
  {
   "cell_type": "code",
   "execution_count": 6,
   "id": "9f2460c5-4c6a-47eb-8479-d2a9a5d57abc",
   "metadata": {},
   "outputs": [],
   "source": [
    "# otherwise\n",
    "# to press keys through Selenium web-driver, we are using this library\n",
    "from selenium.webdriver.common.keys import Keys\n",
    "\n",
    "# press tab ket to go to the next input area\n",
    "n_input.send_keys(Keys.TAB)\n",
    "\n",
    "# select currently selected input area\n",
    "r_input = driver.switch_to.active_element\n",
    "\n",
    "# put the value of r inside\n",
    "r_input.clear()\n",
    "r_input.send_keys('6')"
   ]
  },
  {
   "cell_type": "code",
   "execution_count": 14,
   "id": "1d18516b-89be-46ad-89f3-5ce1f193f15a",
   "metadata": {},
   "outputs": [
    {
     "name": "stderr",
     "output_type": "stream",
     "text": [
      "<ipython-input-14-b170d55e4932>:2: DeprecationWarning: find_element_by_xpath is deprecated. Please use find_element(by=By.XPATH, value=xpath) instead\n",
      "  calculate_button = driver.find_element_by_xpath('//*[@id=\"calculateButton\"]')\n"
     ]
    }
   ],
   "source": [
    "# now to go to the 'calculate' button and click it\n",
    "calculate_button = driver.find_element_by_xpath('//*[@id=\"calculateButton\"]')\n",
    "# calculate_button = driver.find_element(\"id\", \"calculateButton\")\n",
    "calculate_button.click()"
   ]
  },
  {
   "cell_type": "code",
   "execution_count": 15,
   "id": "41cb4a0a-71bf-4e12-a5f5-83bbe304543d",
   "metadata": {},
   "outputs": [
    {
     "name": "stdout",
     "output_type": "stream",
     "text": [
      "So the calculated result -> = 210\n"
     ]
    },
    {
     "name": "stderr",
     "output_type": "stream",
     "text": [
      "<ipython-input-15-23464979332a>:1: DeprecationWarning: find_element_by_xpath is deprecated. Please use find_element(by=By.XPATH, value=xpath) instead\n",
      "  result_area = driver.find_element_by_xpath('//*[@id=\"answer\"]/div[1]')\n"
     ]
    }
   ],
   "source": [
    "result_area = driver.find_element_by_xpath('//*[@id=\"answer\"]/div[1]')\n",
    "# result_area = driver.find_element(\"xpath\", '//*[@id=\"answer\"]/div[1].text')\n",
    "result = result_area.text\n",
    "print (\"So the calculated result ->\", result)"
   ]
  },
  {
   "cell_type": "code",
   "execution_count": 13,
   "id": "7de85a2f-e96d-4a38-ad72-841e2d182d6a",
   "metadata": {},
   "outputs": [
    {
     "name": "stdout",
     "output_type": "stream",
     "text": [
      "= 210\n",
      "['', ' 210']\n",
      " 210\n",
      "210\n"
     ]
    }
   ],
   "source": [
    "print (result)\n",
    "print (result.split(\"=\"))\n",
    "print (result.split(\"=\")[1])\n",
    "final_result = result.split(\"=\")[1].strip()\n",
    "print (final_result)"
   ]
  },
  {
   "cell_type": "code",
   "execution_count": 16,
   "id": "8debe4a3-1a38-4c80-9702-c77de45d6724",
   "metadata": {},
   "outputs": [],
   "source": [
    "# now go to another website for currency conversion\n",
    "driver.get('https://www.calculator.net/currency-calculator.html')"
   ]
  },
  {
   "cell_type": "code",
   "execution_count": 17,
   "id": "45eb81e6-6151-4c4f-bca9-c8f12e71a169",
   "metadata": {},
   "outputs": [],
   "source": [
    "# import select and checkbox from selenium library to get HTML select tags\n",
    "from selenium.webdriver.support.ui import Select"
   ]
  },
  {
   "cell_type": "code",
   "execution_count": 18,
   "id": "ead2a1da-d08e-454c-bdc5-829db57bb3f7",
   "metadata": {},
   "outputs": [
    {
     "name": "stderr",
     "output_type": "stream",
     "text": [
      "<ipython-input-18-cd49d19f5ee7>:2: DeprecationWarning: find_element_by_xpath is deprecated. Please use find_element(by=By.XPATH, value=xpath) instead\n",
      "  from_currency = Select(driver.find_element_by_xpath('//*[@id=\"efrom\"]'))\n",
      "<ipython-input-18-cd49d19f5ee7>:5: DeprecationWarning: find_element_by_xpath is deprecated. Please use find_element(by=By.XPATH, value=xpath) instead\n",
      "  to_currency = Select(driver.find_element_by_xpath('//*[@id=\"eto\"]'))\n"
     ]
    }
   ],
   "source": [
    "# now select the FROM currency as INR and To currency as USD from the drop down menu\n",
    "from_currency = Select(driver.find_element_by_xpath('//*[@id=\"efrom\"]'))\n",
    "from_currency.select_by_visible_text(\"INR: Indian Rupee\")\n",
    "# visible text is the text visible to the user\n",
    "to_currency = Select(driver.find_element_by_xpath('//*[@id=\"eto\"]'))\n",
    "to_currency.select_by_value('USD')"
   ]
  },
  {
   "cell_type": "code",
   "execution_count": 21,
   "id": "0837a651-9e75-4d57-bcc8-6020fa4bb109",
   "metadata": {},
   "outputs": [
    {
     "name": "stderr",
     "output_type": "stream",
     "text": [
      "<ipython-input-21-23c788275146>:2: DeprecationWarning: find_element_by_xpath is deprecated. Please use find_element(by=By.XPATH, value=xpath) instead\n",
      "  amount_textbox = driver.find_element_by_xpath('//*[@id=\"eamount\"]')\n"
     ]
    }
   ],
   "source": [
    "# put 500 as the amount\n",
    "amount_textbox = driver.find_element_by_xpath('//*[@id=\"eamount\"]')\n",
    "amount_textbox.clear()\n",
    "amount_textbox.send_keys('500')"
   ]
  },
  {
   "cell_type": "code",
   "execution_count": 22,
   "id": "8a0c4423-0604-4d37-9bbf-3678c7709110",
   "metadata": {},
   "outputs": [
    {
     "name": "stderr",
     "output_type": "stream",
     "text": [
      "<ipython-input-22-176cfe250177>:2: DeprecationWarning: find_element_by_xpath is deprecated. Please use find_element(by=By.XPATH, value=xpath) instead\n",
      "  calculate_button = driver.find_element_by_xpath('//*[@id=\"standard\"]/tbody/tr[5]/td[2]/input[2]')\n"
     ]
    }
   ],
   "source": [
    "# now click on the calculate button\n",
    "calculate_button = driver.find_element_by_xpath('//*[@id=\"standard\"]/tbody/tr[5]/td[2]/input[2]')\n",
    "calculate_button.click()"
   ]
  },
  {
   "cell_type": "code",
   "execution_count": 24,
   "id": "fbb37c74-dbf8-4b9e-8a81-76f2007e2c21",
   "metadata": {},
   "outputs": [
    {
     "name": "stderr",
     "output_type": "stream",
     "text": [
      "<ipython-input-24-f80838d83410>:2: DeprecationWarning: find_element_by_xpath is deprecated. Please use find_element(by=By.XPATH, value=xpath) instead\n",
      "  checkbox = driver.find_element_by_xpath('//*[@id=\"ccmajorccsettingbox\"]')\n"
     ]
    }
   ],
   "source": [
    "# now handle checkbox to get all available currencies\n",
    "checkbox = driver.find_element_by_xpath('//*[@id=\"ccmajorccsettingbox\"]')\n",
    "\n",
    "# if this checkbox is already checked, then uncheck it by the javascript executor\n",
    "if checkbox.is_selected():\n",
    "    driver.execute_script(\"arguments[0].click();\", checkbox)"
   ]
  },
  {
   "cell_type": "code",
   "execution_count": 27,
   "id": "4ed2cb86-5373-4c85-9ca7-3492cacbf6b0",
   "metadata": {},
   "outputs": [
    {
     "name": "stderr",
     "output_type": "stream",
     "text": [
      "<ipython-input-27-3c387c6f444e>:2: DeprecationWarning: find_element_by_xpath is deprecated. Please use find_element(by=By.XPATH, value=xpath) instead\n",
      "  from_currency = Select(driver.find_element_by_xpath('//*[@id=\"efrom\"]'))\n",
      "<ipython-input-27-3c387c6f444e>:6: DeprecationWarning: find_element_by_xpath is deprecated. Please use find_element(by=By.XPATH, value=xpath) instead\n",
      "  amount_textbox = driver.find_element_by_xpath('//*[@id=\"eamount\"]')\n",
      "<ipython-input-27-3c387c6f444e>:11: DeprecationWarning: find_element_by_xpath is deprecated. Please use find_element(by=By.XPATH, value=xpath) instead\n",
      "  calculate_button = driver.find_element_by_xpath('//*[@id=\"standard\"]/tbody/tr[5]/td[2]/input[2]')\n"
     ]
    }
   ],
   "source": [
    "# change from text to ZWL: Zimbabwean Dollar\n",
    "from_currency = Select(driver.find_element_by_xpath('//*[@id=\"efrom\"]'))\n",
    "from_currency.select_by_value('ZWL')\n",
    "\n",
    "# clear the field first and then insert 800\n",
    "amount_textbox = driver.find_element_by_xpath('//*[@id=\"eamount\"]')\n",
    "amount_textbox.clear()\n",
    "amount_textbox.send_keys('800')\n",
    "\n",
    "# now click on the calcutate button\n",
    "calculate_button = driver.find_element_by_xpath('//*[@id=\"standard\"]/tbody/tr[5]/td[2]/input[2]')\n",
    "calculate_button.click()"
   ]
  },
  {
   "cell_type": "code",
   "execution_count": 28,
   "id": "43cdedef-2c45-4db1-986a-1690a7cb3849",
   "metadata": {},
   "outputs": [],
   "source": [
    "# closing the chrome browser instance\n",
    "driver.quit()"
   ]
  },
  {
   "cell_type": "code",
   "execution_count": null,
   "id": "8af45d6a-39d8-4849-ab3c-a7e48aba35f5",
   "metadata": {},
   "outputs": [],
   "source": []
  }
 ],
 "metadata": {
  "kernelspec": {
   "display_name": "Python 3",
   "language": "python",
   "name": "python3"
  },
  "language_info": {
   "codemirror_mode": {
    "name": "ipython",
    "version": 3
   },
   "file_extension": ".py",
   "mimetype": "text/x-python",
   "name": "python",
   "nbconvert_exporter": "python",
   "pygments_lexer": "ipython3",
   "version": "3.8.8"
  }
 },
 "nbformat": 4,
 "nbformat_minor": 5
}
