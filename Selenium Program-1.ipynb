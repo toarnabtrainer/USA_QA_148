{
 "cells": [
  {
   "cell_type": "markdown",
   "id": "6626798e-fa6f-42d4-9410-fc5125143ee9",
   "metadata": {},
   "source": [
    "## At first we are using executable path to start the browser specific driver to get the get() function to open one website or webportal"
   ]
  },
  {
   "cell_type": "code",
   "execution_count": 2,
   "id": "93503110-156f-4d45-8268-3a702ace5d31",
   "metadata": {},
   "outputs": [
    {
     "name": "stdout",
     "output_type": "stream",
     "text": [
      "Selenium version is 4.1.3\n"
     ]
    }
   ],
   "source": [
    "# importing all the required modules\n",
    "from selenium import webdriver\n",
    "\n",
    "# check the version of the selenium driver\n",
    "print (\"Selenium version is\", webdriver.__version__)"
   ]
  },
  {
   "cell_type": "code",
   "execution_count": 4,
   "id": "2429d800-ef21-4ebf-af0a-03537cae5360",
   "metadata": {},
   "outputs": [
    {
     "name": "stderr",
     "output_type": "stream",
     "text": [
      "<ipython-input-4-73ea3c13cd0e>:3: DeprecationWarning: executable_path has been deprecated, please pass in a Service object\n",
      "  driver = webdriver.Chrome(executable_path = './chromedriver.exe')\n"
     ]
    }
   ],
   "source": [
    "# now check whether the chromedriver.exe is present in the same directory and versions are compatible or not\n",
    "# otherwise provide the relative or absolute path to the driver\n",
    "driver = webdriver.Chrome(executable_path = './chromedriver.exe')"
   ]
  },
  {
   "cell_type": "code",
   "execution_count": 5,
   "id": "12e425f2-28ed-4abc-8061-435bad35a3b6",
   "metadata": {},
   "outputs": [],
   "source": [
    "# start wikipedia page\n",
    "driver.get('https://en.wikipedia.org/wiki/Main_Page')"
   ]
  },
  {
   "cell_type": "code",
   "execution_count": 6,
   "id": "a512b33d-dd68-4acf-b83f-43a834aab062",
   "metadata": {},
   "outputs": [
    {
     "name": "stdout",
     "output_type": "stream",
     "text": [
      "https://www.google.com/\n",
      "Google\n"
     ]
    }
   ],
   "source": [
    "# now go for a new page, say \"Google\"\n",
    "driver.get('https://www.google.com/')\n",
    "print (driver.current_url)\n",
    "print (driver.title)"
   ]
  },
  {
   "cell_type": "code",
   "execution_count": 7,
   "id": "e5359fb3-3ad6-4c57-a907-856bf3c06b58",
   "metadata": {},
   "outputs": [
    {
     "name": "stdout",
     "output_type": "stream",
     "text": [
      "https://en.wikipedia.org/wiki/Main_Page\n",
      "Wikipedia, the free encyclopedia\n"
     ]
    }
   ],
   "source": [
    "# return back to the previous page using the back() function\n",
    "driver.back()\n",
    "print (driver.current_url)\n",
    "print (driver.title)"
   ]
  },
  {
   "cell_type": "code",
   "execution_count": null,
   "id": "e4e47cc1-32af-4a25-9265-7a06d98c8942",
   "metadata": {},
   "outputs": [],
   "source": []
  },
  {
   "cell_type": "code",
   "execution_count": null,
   "id": "4548f506-c391-4225-bb7f-f6b0f488aa11",
   "metadata": {},
   "outputs": [],
   "source": []
  },
  {
   "cell_type": "code",
   "execution_count": null,
   "id": "486b4d95-25a5-4ce0-9f68-b480baf9fe3e",
   "metadata": {},
   "outputs": [],
   "source": []
  },
  {
   "cell_type": "code",
   "execution_count": null,
   "id": "a14e74ac-5bd6-4239-8d04-c4e1e601e102",
   "metadata": {},
   "outputs": [],
   "source": []
  },
  {
   "cell_type": "code",
   "execution_count": null,
   "id": "971ee8d8-3b73-4005-9e18-39842833d96a",
   "metadata": {},
   "outputs": [],
   "source": []
  }
 ],
 "metadata": {
  "kernelspec": {
   "display_name": "Python 3",
   "language": "python",
   "name": "python3"
  },
  "language_info": {
   "codemirror_mode": {
    "name": "ipython",
    "version": 3
   },
   "file_extension": ".py",
   "mimetype": "text/x-python",
   "name": "python",
   "nbconvert_exporter": "python",
   "pygments_lexer": "ipython3",
   "version": "3.8.8"
  }
 },
 "nbformat": 4,
 "nbformat_minor": 5
}
